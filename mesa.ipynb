{
  "nbformat": 4,
  "nbformat_minor": 0,
  "metadata": {
    "colab": {
      "provenance": []
    },
    "kernelspec": {
      "name": "python3",
      "display_name": "Python 3"
    },
    "language_info": {
      "name": "python"
    }
  },
  "cells": [
    {
      "cell_type": "code",
      "execution_count": null,
      "metadata": {
        "colab": {
          "base_uri": "https://localhost:8080/"
        },
        "id": "obyedvDnOO-D",
        "outputId": "1e83409b-fec1-4536-d670-ac69ccdc1e03"
      },
      "outputs": [
        {
          "output_type": "stream",
          "name": "stdout",
          "text": [
            "Requirement already satisfied: mesa[rec] in /usr/local/lib/python3.11/dist-packages (3.2.0)\n",
            "Requirement already satisfied: numpy in /usr/local/lib/python3.11/dist-packages (from mesa[rec]) (2.0.2)\n",
            "Requirement already satisfied: pandas in /usr/local/lib/python3.11/dist-packages (from mesa[rec]) (2.2.2)\n",
            "Requirement already satisfied: scipy in /usr/local/lib/python3.11/dist-packages (from mesa[rec]) (1.15.3)\n",
            "Requirement already satisfied: tqdm in /usr/local/lib/python3.11/dist-packages (from mesa[rec]) (4.67.1)\n",
            "Requirement already satisfied: altair in /usr/local/lib/python3.11/dist-packages (from mesa[rec]) (5.5.0)\n",
            "Requirement already satisfied: matplotlib in /usr/local/lib/python3.11/dist-packages (from mesa[rec]) (3.10.0)\n",
            "Requirement already satisfied: networkx in /usr/local/lib/python3.11/dist-packages (from mesa[rec]) (3.5)\n",
            "Requirement already satisfied: solara in /usr/local/lib/python3.11/dist-packages (from mesa[rec]) (1.50.1)\n",
            "Requirement already satisfied: jinja2 in /usr/local/lib/python3.11/dist-packages (from altair->mesa[rec]) (3.1.6)\n",
            "Requirement already satisfied: jsonschema>=3.0 in /usr/local/lib/python3.11/dist-packages (from altair->mesa[rec]) (4.24.0)\n",
            "Requirement already satisfied: narwhals>=1.14.2 in /usr/local/lib/python3.11/dist-packages (from altair->mesa[rec]) (1.47.0)\n",
            "Requirement already satisfied: packaging in /usr/local/lib/python3.11/dist-packages (from altair->mesa[rec]) (24.2)\n",
            "Requirement already satisfied: typing-extensions>=4.10.0 in /usr/local/lib/python3.11/dist-packages (from altair->mesa[rec]) (4.14.1)\n",
            "Requirement already satisfied: contourpy>=1.0.1 in /usr/local/lib/python3.11/dist-packages (from matplotlib->mesa[rec]) (1.3.2)\n",
            "Requirement already satisfied: cycler>=0.10 in /usr/local/lib/python3.11/dist-packages (from matplotlib->mesa[rec]) (0.12.1)\n",
            "Requirement already satisfied: fonttools>=4.22.0 in /usr/local/lib/python3.11/dist-packages (from matplotlib->mesa[rec]) (4.58.5)\n",
            "Requirement already satisfied: kiwisolver>=1.3.1 in /usr/local/lib/python3.11/dist-packages (from matplotlib->mesa[rec]) (1.4.8)\n",
            "Requirement already satisfied: pillow>=8 in /usr/local/lib/python3.11/dist-packages (from matplotlib->mesa[rec]) (11.2.1)\n",
            "Requirement already satisfied: pyparsing>=2.3.1 in /usr/local/lib/python3.11/dist-packages (from matplotlib->mesa[rec]) (3.2.3)\n",
            "Requirement already satisfied: python-dateutil>=2.7 in /usr/local/lib/python3.11/dist-packages (from matplotlib->mesa[rec]) (2.9.0.post0)\n",
            "Requirement already satisfied: pytz>=2020.1 in /usr/local/lib/python3.11/dist-packages (from pandas->mesa[rec]) (2025.2)\n",
            "Requirement already satisfied: tzdata>=2022.7 in /usr/local/lib/python3.11/dist-packages (from pandas->mesa[rec]) (2025.2)\n",
            "Requirement already satisfied: solara-server==1.50.1 in /usr/local/lib/python3.11/dist-packages (from solara-server[dev,starlette]==1.50.1->solara->mesa[rec]) (1.50.1)\n",
            "Requirement already satisfied: solara-ui==1.50.1 in /usr/local/lib/python3.11/dist-packages (from solara-ui[all]==1.50.1->solara->mesa[rec]) (1.50.1)\n",
            "Requirement already satisfied: click>=7.1.0 in /usr/local/lib/python3.11/dist-packages (from solara-server==1.50.1->solara-server[dev,starlette]==1.50.1->solara->mesa[rec]) (8.2.1)\n",
            "Requirement already satisfied: filelock in /usr/local/lib/python3.11/dist-packages (from solara-server==1.50.1->solara-server[dev,starlette]==1.50.1->solara->mesa[rec]) (3.18.0)\n",
            "Requirement already satisfied: ipykernel in /usr/local/lib/python3.11/dist-packages (from solara-server==1.50.1->solara-server[dev,starlette]==1.50.1->solara->mesa[rec]) (6.17.1)\n",
            "Requirement already satisfied: jupyter-client in /usr/local/lib/python3.11/dist-packages (from solara-server==1.50.1->solara-server[dev,starlette]==1.50.1->solara->mesa[rec]) (6.1.12)\n",
            "Requirement already satisfied: nbformat in /usr/local/lib/python3.11/dist-packages (from solara-server==1.50.1->solara-server[dev,starlette]==1.50.1->solara->mesa[rec]) (5.10.4)\n",
            "Requirement already satisfied: rich-click in /usr/local/lib/python3.11/dist-packages (from solara-server==1.50.1->solara-server[dev,starlette]==1.50.1->solara->mesa[rec]) (1.8.9)\n",
            "Requirement already satisfied: watchdog in /usr/local/lib/python3.11/dist-packages (from solara-server[dev,starlette]==1.50.1->solara->mesa[rec]) (6.0.0)\n",
            "Requirement already satisfied: watchfiles in /usr/local/lib/python3.11/dist-packages (from solara-server[dev,starlette]==1.50.1->solara->mesa[rec]) (1.1.0)\n",
            "Requirement already satisfied: starlette in /usr/local/lib/python3.11/dist-packages (from solara-server[dev,starlette]==1.50.1->solara->mesa[rec]) (0.47.1)\n",
            "Requirement already satisfied: uvicorn in /usr/local/lib/python3.11/dist-packages (from solara-server[dev,starlette]==1.50.1->solara->mesa[rec]) (0.35.0)\n",
            "Requirement already satisfied: websockets in /usr/local/lib/python3.11/dist-packages (from solara-server[dev,starlette]==1.50.1->solara->mesa[rec]) (15.0.1)\n",
            "Requirement already satisfied: humanize in /usr/local/lib/python3.11/dist-packages (from solara-ui==1.50.1->solara-ui[all]==1.50.1->solara->mesa[rec]) (4.12.3)\n",
            "Requirement already satisfied: ipyvue>=1.9.0 in /usr/local/lib/python3.11/dist-packages (from solara-ui==1.50.1->solara-ui[all]==1.50.1->solara->mesa[rec]) (1.11.2)\n",
            "Requirement already satisfied: ipyvuetify>=1.6.10 in /usr/local/lib/python3.11/dist-packages (from solara-ui==1.50.1->solara-ui[all]==1.50.1->solara->mesa[rec]) (1.11.3)\n",
            "Requirement already satisfied: ipywidgets>=7.7 in /usr/local/lib/python3.11/dist-packages (from solara-ui==1.50.1->solara-ui[all]==1.50.1->solara->mesa[rec]) (7.7.1)\n",
            "Requirement already satisfied: reacton>=1.9 in /usr/local/lib/python3.11/dist-packages (from solara-ui==1.50.1->solara-ui[all]==1.50.1->solara->mesa[rec]) (1.9.1)\n",
            "Requirement already satisfied: requests in /usr/local/lib/python3.11/dist-packages (from solara-ui==1.50.1->solara-ui[all]==1.50.1->solara->mesa[rec]) (2.32.3)\n",
            "Requirement already satisfied: cachetools in /usr/local/lib/python3.11/dist-packages (from solara-ui[all]==1.50.1->solara->mesa[rec]) (5.5.2)\n",
            "Requirement already satisfied: markdown in /usr/local/lib/python3.11/dist-packages (from solara-ui[all]==1.50.1->solara->mesa[rec]) (3.8.2)\n",
            "Requirement already satisfied: pygments in /usr/local/lib/python3.11/dist-packages (from solara-ui[all]==1.50.1->solara->mesa[rec]) (2.19.2)\n",
            "Requirement already satisfied: pymdown-extensions in /usr/local/lib/python3.11/dist-packages (from solara-ui[all]==1.50.1->solara->mesa[rec]) (10.16)\n",
            "Requirement already satisfied: attrs>=22.2.0 in /usr/local/lib/python3.11/dist-packages (from jsonschema>=3.0->altair->mesa[rec]) (25.3.0)\n",
            "Requirement already satisfied: jsonschema-specifications>=2023.03.6 in /usr/local/lib/python3.11/dist-packages (from jsonschema>=3.0->altair->mesa[rec]) (2025.4.1)\n",
            "Requirement already satisfied: referencing>=0.28.4 in /usr/local/lib/python3.11/dist-packages (from jsonschema>=3.0->altair->mesa[rec]) (0.36.2)\n",
            "Requirement already satisfied: rpds-py>=0.7.1 in /usr/local/lib/python3.11/dist-packages (from jsonschema>=3.0->altair->mesa[rec]) (0.26.0)\n",
            "Requirement already satisfied: six>=1.5 in /usr/local/lib/python3.11/dist-packages (from python-dateutil>=2.7->matplotlib->mesa[rec]) (1.17.0)\n",
            "Requirement already satisfied: MarkupSafe>=2.0 in /usr/local/lib/python3.11/dist-packages (from jinja2->altair->mesa[rec]) (3.0.2)\n",
            "Requirement already satisfied: ipython-genutils~=0.2.0 in /usr/local/lib/python3.11/dist-packages (from ipywidgets>=7.7->solara-ui==1.50.1->solara-ui[all]==1.50.1->solara->mesa[rec]) (0.2.0)\n",
            "Requirement already satisfied: traitlets>=4.3.1 in /usr/local/lib/python3.11/dist-packages (from ipywidgets>=7.7->solara-ui==1.50.1->solara-ui[all]==1.50.1->solara->mesa[rec]) (5.7.1)\n",
            "Requirement already satisfied: widgetsnbextension~=3.6.0 in /usr/local/lib/python3.11/dist-packages (from ipywidgets>=7.7->solara-ui==1.50.1->solara-ui[all]==1.50.1->solara->mesa[rec]) (3.6.10)\n",
            "Requirement already satisfied: ipython>=4.0.0 in /usr/local/lib/python3.11/dist-packages (from ipywidgets>=7.7->solara-ui==1.50.1->solara-ui[all]==1.50.1->solara->mesa[rec]) (7.34.0)\n",
            "Requirement already satisfied: jupyterlab-widgets>=1.0.0 in /usr/local/lib/python3.11/dist-packages (from ipywidgets>=7.7->solara-ui==1.50.1->solara-ui[all]==1.50.1->solara->mesa[rec]) (3.0.15)\n",
            "Requirement already satisfied: debugpy>=1.0 in /usr/local/lib/python3.11/dist-packages (from ipykernel->solara-server==1.50.1->solara-server[dev,starlette]==1.50.1->solara->mesa[rec]) (1.8.0)\n",
            "Requirement already satisfied: matplotlib-inline>=0.1 in /usr/local/lib/python3.11/dist-packages (from ipykernel->solara-server==1.50.1->solara-server[dev,starlette]==1.50.1->solara->mesa[rec]) (0.1.7)\n",
            "Requirement already satisfied: nest-asyncio in /usr/local/lib/python3.11/dist-packages (from ipykernel->solara-server==1.50.1->solara-server[dev,starlette]==1.50.1->solara->mesa[rec]) (1.6.0)\n",
            "Requirement already satisfied: psutil in /usr/local/lib/python3.11/dist-packages (from ipykernel->solara-server==1.50.1->solara-server[dev,starlette]==1.50.1->solara->mesa[rec]) (5.9.5)\n",
            "Requirement already satisfied: pyzmq>=17 in /usr/local/lib/python3.11/dist-packages (from ipykernel->solara-server==1.50.1->solara-server[dev,starlette]==1.50.1->solara->mesa[rec]) (24.0.1)\n",
            "Requirement already satisfied: tornado>=6.1 in /usr/local/lib/python3.11/dist-packages (from ipykernel->solara-server==1.50.1->solara-server[dev,starlette]==1.50.1->solara->mesa[rec]) (6.4.2)\n",
            "Requirement already satisfied: jupyter-core>=4.6.0 in /usr/local/lib/python3.11/dist-packages (from jupyter-client->solara-server==1.50.1->solara-server[dev,starlette]==1.50.1->solara->mesa[rec]) (5.8.1)\n",
            "Requirement already satisfied: fastjsonschema>=2.15 in /usr/local/lib/python3.11/dist-packages (from nbformat->solara-server==1.50.1->solara-server[dev,starlette]==1.50.1->solara->mesa[rec]) (2.21.1)\n",
            "Requirement already satisfied: pyyaml in /usr/local/lib/python3.11/dist-packages (from pymdown-extensions->solara-ui[all]==1.50.1->solara->mesa[rec]) (6.0.2)\n",
            "Requirement already satisfied: charset-normalizer<4,>=2 in /usr/local/lib/python3.11/dist-packages (from requests->solara-ui==1.50.1->solara-ui[all]==1.50.1->solara->mesa[rec]) (3.4.2)\n",
            "Requirement already satisfied: idna<4,>=2.5 in /usr/local/lib/python3.11/dist-packages (from requests->solara-ui==1.50.1->solara-ui[all]==1.50.1->solara->mesa[rec]) (3.10)\n",
            "Requirement already satisfied: urllib3<3,>=1.21.1 in /usr/local/lib/python3.11/dist-packages (from requests->solara-ui==1.50.1->solara-ui[all]==1.50.1->solara->mesa[rec]) (2.4.0)\n",
            "Requirement already satisfied: certifi>=2017.4.17 in /usr/local/lib/python3.11/dist-packages (from requests->solara-ui==1.50.1->solara-ui[all]==1.50.1->solara->mesa[rec]) (2025.7.14)\n",
            "Requirement already satisfied: rich>=10.7 in /usr/local/lib/python3.11/dist-packages (from rich-click->solara-server==1.50.1->solara-server[dev,starlette]==1.50.1->solara->mesa[rec]) (13.9.4)\n",
            "Requirement already satisfied: anyio<5,>=3.6.2 in /usr/local/lib/python3.11/dist-packages (from starlette->solara-server[dev,starlette]==1.50.1->solara->mesa[rec]) (4.9.0)\n",
            "Requirement already satisfied: h11>=0.8 in /usr/local/lib/python3.11/dist-packages (from uvicorn->solara-server[dev,starlette]==1.50.1->solara->mesa[rec]) (0.16.0)\n",
            "Requirement already satisfied: sniffio>=1.1 in /usr/local/lib/python3.11/dist-packages (from anyio<5,>=3.6.2->starlette->solara-server[dev,starlette]==1.50.1->solara->mesa[rec]) (1.3.1)\n",
            "Requirement already satisfied: setuptools>=18.5 in /usr/local/lib/python3.11/dist-packages (from ipython>=4.0.0->ipywidgets>=7.7->solara-ui==1.50.1->solara-ui[all]==1.50.1->solara->mesa[rec]) (75.2.0)\n",
            "Requirement already satisfied: jedi>=0.16 in /usr/local/lib/python3.11/dist-packages (from ipython>=4.0.0->ipywidgets>=7.7->solara-ui==1.50.1->solara-ui[all]==1.50.1->solara->mesa[rec]) (0.19.2)\n",
            "Requirement already satisfied: decorator in /usr/local/lib/python3.11/dist-packages (from ipython>=4.0.0->ipywidgets>=7.7->solara-ui==1.50.1->solara-ui[all]==1.50.1->solara->mesa[rec]) (4.4.2)\n",
            "Requirement already satisfied: pickleshare in /usr/local/lib/python3.11/dist-packages (from ipython>=4.0.0->ipywidgets>=7.7->solara-ui==1.50.1->solara-ui[all]==1.50.1->solara->mesa[rec]) (0.7.5)\n",
            "Requirement already satisfied: prompt-toolkit!=3.0.0,!=3.0.1,<3.1.0,>=2.0.0 in /usr/local/lib/python3.11/dist-packages (from ipython>=4.0.0->ipywidgets>=7.7->solara-ui==1.50.1->solara-ui[all]==1.50.1->solara->mesa[rec]) (3.0.51)\n",
            "Requirement already satisfied: backcall in /usr/local/lib/python3.11/dist-packages (from ipython>=4.0.0->ipywidgets>=7.7->solara-ui==1.50.1->solara-ui[all]==1.50.1->solara->mesa[rec]) (0.2.0)\n",
            "Requirement already satisfied: pexpect>4.3 in /usr/local/lib/python3.11/dist-packages (from ipython>=4.0.0->ipywidgets>=7.7->solara-ui==1.50.1->solara-ui[all]==1.50.1->solara->mesa[rec]) (4.9.0)\n",
            "Requirement already satisfied: platformdirs>=2.5 in /usr/local/lib/python3.11/dist-packages (from jupyter-core>=4.6.0->jupyter-client->solara-server==1.50.1->solara-server[dev,starlette]==1.50.1->solara->mesa[rec]) (4.3.8)\n",
            "Requirement already satisfied: markdown-it-py>=2.2.0 in /usr/local/lib/python3.11/dist-packages (from rich>=10.7->rich-click->solara-server==1.50.1->solara-server[dev,starlette]==1.50.1->solara->mesa[rec]) (3.0.0)\n",
            "Requirement already satisfied: notebook>=4.4.1 in /usr/local/lib/python3.11/dist-packages (from widgetsnbextension~=3.6.0->ipywidgets>=7.7->solara-ui==1.50.1->solara-ui[all]==1.50.1->solara->mesa[rec]) (6.5.7)\n",
            "Requirement already satisfied: parso<0.9.0,>=0.8.4 in /usr/local/lib/python3.11/dist-packages (from jedi>=0.16->ipython>=4.0.0->ipywidgets>=7.7->solara-ui==1.50.1->solara-ui[all]==1.50.1->solara->mesa[rec]) (0.8.4)\n",
            "Requirement already satisfied: mdurl~=0.1 in /usr/local/lib/python3.11/dist-packages (from markdown-it-py>=2.2.0->rich>=10.7->rich-click->solara-server==1.50.1->solara-server[dev,starlette]==1.50.1->solara->mesa[rec]) (0.1.2)\n",
            "Requirement already satisfied: argon2-cffi in /usr/local/lib/python3.11/dist-packages (from notebook>=4.4.1->widgetsnbextension~=3.6.0->ipywidgets>=7.7->solara-ui==1.50.1->solara-ui[all]==1.50.1->solara->mesa[rec]) (25.1.0)\n",
            "Requirement already satisfied: nbconvert>=5 in /usr/local/lib/python3.11/dist-packages (from notebook>=4.4.1->widgetsnbextension~=3.6.0->ipywidgets>=7.7->solara-ui==1.50.1->solara-ui[all]==1.50.1->solara->mesa[rec]) (7.16.6)\n",
            "Requirement already satisfied: Send2Trash>=1.8.0 in /usr/local/lib/python3.11/dist-packages (from notebook>=4.4.1->widgetsnbextension~=3.6.0->ipywidgets>=7.7->solara-ui==1.50.1->solara-ui[all]==1.50.1->solara->mesa[rec]) (1.8.3)\n",
            "Requirement already satisfied: terminado>=0.8.3 in /usr/local/lib/python3.11/dist-packages (from notebook>=4.4.1->widgetsnbextension~=3.6.0->ipywidgets>=7.7->solara-ui==1.50.1->solara-ui[all]==1.50.1->solara->mesa[rec]) (0.18.1)\n",
            "Requirement already satisfied: prometheus-client in /usr/local/lib/python3.11/dist-packages (from notebook>=4.4.1->widgetsnbextension~=3.6.0->ipywidgets>=7.7->solara-ui==1.50.1->solara-ui[all]==1.50.1->solara->mesa[rec]) (0.22.1)\n",
            "Requirement already satisfied: nbclassic>=0.4.7 in /usr/local/lib/python3.11/dist-packages (from notebook>=4.4.1->widgetsnbextension~=3.6.0->ipywidgets>=7.7->solara-ui==1.50.1->solara-ui[all]==1.50.1->solara->mesa[rec]) (1.3.1)\n",
            "Requirement already satisfied: ptyprocess>=0.5 in /usr/local/lib/python3.11/dist-packages (from pexpect>4.3->ipython>=4.0.0->ipywidgets>=7.7->solara-ui==1.50.1->solara-ui[all]==1.50.1->solara->mesa[rec]) (0.7.0)\n",
            "Requirement already satisfied: wcwidth in /usr/local/lib/python3.11/dist-packages (from prompt-toolkit!=3.0.0,!=3.0.1,<3.1.0,>=2.0.0->ipython>=4.0.0->ipywidgets>=7.7->solara-ui==1.50.1->solara-ui[all]==1.50.1->solara->mesa[rec]) (0.2.13)\n",
            "Requirement already satisfied: notebook-shim>=0.2.3 in /usr/local/lib/python3.11/dist-packages (from nbclassic>=0.4.7->notebook>=4.4.1->widgetsnbextension~=3.6.0->ipywidgets>=7.7->solara-ui==1.50.1->solara-ui[all]==1.50.1->solara->mesa[rec]) (0.2.4)\n",
            "Requirement already satisfied: beautifulsoup4 in /usr/local/lib/python3.11/dist-packages (from nbconvert>=5->notebook>=4.4.1->widgetsnbextension~=3.6.0->ipywidgets>=7.7->solara-ui==1.50.1->solara-ui[all]==1.50.1->solara->mesa[rec]) (4.13.4)\n",
            "Requirement already satisfied: bleach!=5.0.0 in /usr/local/lib/python3.11/dist-packages (from bleach[css]!=5.0.0->nbconvert>=5->notebook>=4.4.1->widgetsnbextension~=3.6.0->ipywidgets>=7.7->solara-ui==1.50.1->solara-ui[all]==1.50.1->solara->mesa[rec]) (6.2.0)\n",
            "Requirement already satisfied: defusedxml in /usr/local/lib/python3.11/dist-packages (from nbconvert>=5->notebook>=4.4.1->widgetsnbextension~=3.6.0->ipywidgets>=7.7->solara-ui==1.50.1->solara-ui[all]==1.50.1->solara->mesa[rec]) (0.7.1)\n",
            "Requirement already satisfied: jupyterlab-pygments in /usr/local/lib/python3.11/dist-packages (from nbconvert>=5->notebook>=4.4.1->widgetsnbextension~=3.6.0->ipywidgets>=7.7->solara-ui==1.50.1->solara-ui[all]==1.50.1->solara->mesa[rec]) (0.3.0)\n",
            "Requirement already satisfied: mistune<4,>=2.0.3 in /usr/local/lib/python3.11/dist-packages (from nbconvert>=5->notebook>=4.4.1->widgetsnbextension~=3.6.0->ipywidgets>=7.7->solara-ui==1.50.1->solara-ui[all]==1.50.1->solara->mesa[rec]) (3.1.3)\n",
            "Requirement already satisfied: nbclient>=0.5.0 in /usr/local/lib/python3.11/dist-packages (from nbconvert>=5->notebook>=4.4.1->widgetsnbextension~=3.6.0->ipywidgets>=7.7->solara-ui==1.50.1->solara-ui[all]==1.50.1->solara->mesa[rec]) (0.10.2)\n",
            "Requirement already satisfied: pandocfilters>=1.4.1 in /usr/local/lib/python3.11/dist-packages (from nbconvert>=5->notebook>=4.4.1->widgetsnbextension~=3.6.0->ipywidgets>=7.7->solara-ui==1.50.1->solara-ui[all]==1.50.1->solara->mesa[rec]) (1.5.1)\n",
            "Requirement already satisfied: argon2-cffi-bindings in /usr/local/lib/python3.11/dist-packages (from argon2-cffi->notebook>=4.4.1->widgetsnbextension~=3.6.0->ipywidgets>=7.7->solara-ui==1.50.1->solara-ui[all]==1.50.1->solara->mesa[rec]) (21.2.0)\n",
            "Requirement already satisfied: webencodings in /usr/local/lib/python3.11/dist-packages (from bleach!=5.0.0->bleach[css]!=5.0.0->nbconvert>=5->notebook>=4.4.1->widgetsnbextension~=3.6.0->ipywidgets>=7.7->solara-ui==1.50.1->solara-ui[all]==1.50.1->solara->mesa[rec]) (0.5.1)\n",
            "Requirement already satisfied: tinycss2<1.5,>=1.1.0 in /usr/local/lib/python3.11/dist-packages (from bleach[css]!=5.0.0->nbconvert>=5->notebook>=4.4.1->widgetsnbextension~=3.6.0->ipywidgets>=7.7->solara-ui==1.50.1->solara-ui[all]==1.50.1->solara->mesa[rec]) (1.4.0)\n",
            "Requirement already satisfied: jupyter-server<3,>=1.8 in /usr/local/lib/python3.11/dist-packages (from notebook-shim>=0.2.3->nbclassic>=0.4.7->notebook>=4.4.1->widgetsnbextension~=3.6.0->ipywidgets>=7.7->solara-ui==1.50.1->solara-ui[all]==1.50.1->solara->mesa[rec]) (1.16.0)\n",
            "Requirement already satisfied: cffi>=1.0.1 in /usr/local/lib/python3.11/dist-packages (from argon2-cffi-bindings->argon2-cffi->notebook>=4.4.1->widgetsnbextension~=3.6.0->ipywidgets>=7.7->solara-ui==1.50.1->solara-ui[all]==1.50.1->solara->mesa[rec]) (1.17.1)\n",
            "Requirement already satisfied: soupsieve>1.2 in /usr/local/lib/python3.11/dist-packages (from beautifulsoup4->nbconvert>=5->notebook>=4.4.1->widgetsnbextension~=3.6.0->ipywidgets>=7.7->solara-ui==1.50.1->solara-ui[all]==1.50.1->solara->mesa[rec]) (2.7)\n",
            "Requirement already satisfied: pycparser in /usr/local/lib/python3.11/dist-packages (from cffi>=1.0.1->argon2-cffi-bindings->argon2-cffi->notebook>=4.4.1->widgetsnbextension~=3.6.0->ipywidgets>=7.7->solara-ui==1.50.1->solara-ui[all]==1.50.1->solara->mesa[rec]) (2.22)\n",
            "Requirement already satisfied: websocket-client in /usr/local/lib/python3.11/dist-packages (from jupyter-server<3,>=1.8->notebook-shim>=0.2.3->nbclassic>=0.4.7->notebook>=4.4.1->widgetsnbextension~=3.6.0->ipywidgets>=7.7->solara-ui==1.50.1->solara-ui[all]==1.50.1->solara->mesa[rec]) (1.8.0)\n"
          ]
        }
      ],
      "source": [
        "pip install mesa[rec]"
      ]
    },
    {
      "cell_type": "code",
      "source": [
        "\n",
        "# mesaパッケージ直下の属性・モジュールを表示\n",
        "print(dir(mesa))"
      ],
      "metadata": {
        "colab": {
          "base_uri": "https://localhost:8080/"
        },
        "id": "JRibYpbSqvzf",
        "outputId": "8fbbdefc-841b-4b62-815a-a5d5830ab568"
      },
      "execution_count": 21,
      "outputs": [
        {
          "output_type": "stream",
          "name": "stdout",
          "text": [
            "['Agent', 'DataCollector', 'Model', '__all__', '__builtins__', '__cached__', '__copyright__', '__doc__', '__file__', '__license__', '__loader__', '__name__', '__package__', '__path__', '__spec__', '__title__', '__version__', '_this_year', 'agent', 'batch_run', 'batchrunner', 'datacollection', 'datetime', 'discrete_space', 'experimental', 'mesa_logging', 'model', 'space']\n"
          ]
        }
      ]
    },
    {
      "cell_type": "code",
      "source": [
        "pip install seaborn"
      ],
      "metadata": {
        "colab": {
          "base_uri": "https://localhost:8080/"
        },
        "id": "BDqY04HsOXfG",
        "outputId": "dfab89ae-4547-430a-f3c7-d2b99e8c22c6"
      },
      "execution_count": null,
      "outputs": [
        {
          "output_type": "stream",
          "name": "stdout",
          "text": [
            "Requirement already satisfied: seaborn in /usr/local/lib/python3.11/dist-packages (0.13.2)\n",
            "Requirement already satisfied: numpy!=1.24.0,>=1.20 in /usr/local/lib/python3.11/dist-packages (from seaborn) (2.0.2)\n",
            "Requirement already satisfied: pandas>=1.2 in /usr/local/lib/python3.11/dist-packages (from seaborn) (2.2.2)\n",
            "Requirement already satisfied: matplotlib!=3.6.1,>=3.4 in /usr/local/lib/python3.11/dist-packages (from seaborn) (3.10.0)\n",
            "Requirement already satisfied: contourpy>=1.0.1 in /usr/local/lib/python3.11/dist-packages (from matplotlib!=3.6.1,>=3.4->seaborn) (1.3.2)\n",
            "Requirement already satisfied: cycler>=0.10 in /usr/local/lib/python3.11/dist-packages (from matplotlib!=3.6.1,>=3.4->seaborn) (0.12.1)\n",
            "Requirement already satisfied: fonttools>=4.22.0 in /usr/local/lib/python3.11/dist-packages (from matplotlib!=3.6.1,>=3.4->seaborn) (4.58.5)\n",
            "Requirement already satisfied: kiwisolver>=1.3.1 in /usr/local/lib/python3.11/dist-packages (from matplotlib!=3.6.1,>=3.4->seaborn) (1.4.8)\n",
            "Requirement already satisfied: packaging>=20.0 in /usr/local/lib/python3.11/dist-packages (from matplotlib!=3.6.1,>=3.4->seaborn) (24.2)\n",
            "Requirement already satisfied: pillow>=8 in /usr/local/lib/python3.11/dist-packages (from matplotlib!=3.6.1,>=3.4->seaborn) (11.2.1)\n",
            "Requirement already satisfied: pyparsing>=2.3.1 in /usr/local/lib/python3.11/dist-packages (from matplotlib!=3.6.1,>=3.4->seaborn) (3.2.3)\n",
            "Requirement already satisfied: python-dateutil>=2.7 in /usr/local/lib/python3.11/dist-packages (from matplotlib!=3.6.1,>=3.4->seaborn) (2.9.0.post0)\n",
            "Requirement already satisfied: pytz>=2020.1 in /usr/local/lib/python3.11/dist-packages (from pandas>=1.2->seaborn) (2025.2)\n",
            "Requirement already satisfied: tzdata>=2022.7 in /usr/local/lib/python3.11/dist-packages (from pandas>=1.2->seaborn) (2025.2)\n",
            "Requirement already satisfied: six>=1.5 in /usr/local/lib/python3.11/dist-packages (from python-dateutil>=2.7->matplotlib!=3.6.1,>=3.4->seaborn) (1.17.0)\n"
          ]
        }
      ]
    },
    {
      "cell_type": "code",
      "source": [
        "# Has multi-dimensional arrays and matrices.\n",
        "# Has a large collection of mathematical functions to operate on these arrays.\n",
        "import numpy as np\n",
        "\n",
        "# Data manipulation and analysis.\n",
        "import pandas as pd\n",
        "\n",
        "# Data visualization tools.\n",
        "import seaborn as sns\n",
        "\n",
        "import mesa\n",
        "\n",
        "from mesa.datacollection import DataCollector\n",
        "import random"
      ],
      "metadata": {
        "id": "r4Kqk097OXsK"
      },
      "execution_count": 22,
      "outputs": []
    },
    {
      "cell_type": "code",
      "source": [
        "import random\n",
        "\n",
        "class Post:\n",
        "    def __init__(self, poster_id, quality, step):\n",
        "        self.poster_id = poster_id  # 投稿者ID\n",
        "        self.quality = quality\n",
        "        self.step = step\n",
        "        self.reactions = 0\n",
        "\n",
        "class UserAgent:\n",
        "    def __init__(self, model, agent_id):\n",
        "        self.model = model\n",
        "        self.agent_id = agent_id  # 識別用ID\n",
        "        self.posts = []\n",
        "\n",
        "    def step(self, current_step):\n",
        "        if random.random() < 0.3:\n",
        "            quality = random.uniform(0, 1)\n",
        "            post = Post(self.agent_id, quality, current_step)\n",
        "            self.model.posts.append(post)\n",
        "            self.posts.append(post)\n",
        "\n",
        "        for post in self.model.posts:\n",
        "            if current_step - post.step > 10:\n",
        "                continue\n",
        "            reaction_prob = min(0.5, post.quality * 0.5)\n",
        "            if random.random() < reaction_prob:\n",
        "                post.reactions += 1\n",
        "\n",
        "class UserModel:\n",
        "    def __init__(self, n, seed=None):\n",
        "        if seed is not None:\n",
        "            random.seed(seed)\n",
        "        self.num_agents = n\n",
        "        self.current_step = 0\n",
        "        self.agent_list = []\n",
        "        self.posts = []\n",
        "\n",
        "        for i in range(n):\n",
        "            agent = UserAgent(model=self, agent_id=i)\n",
        "            self.agent_list.append(agent)\n",
        "\n",
        "    def step(self):\n",
        "        for agent in self.agent_list:\n",
        "            agent.step(self.current_step)\n",
        "        self.current_step += 1"
      ],
      "metadata": {
        "id": "38qjLIU7xxEM"
      },
      "execution_count": 38,
      "outputs": []
    },
    {
      "cell_type": "code",
      "source": [
        "# 実行例\n",
        "model = UserModel(10)\n",
        "for _ in range(30):\n",
        "    model.step()\n",
        "\n",
        "print(f\"Total posts: {len(model.posts)}\")\n",
        "for i, post in enumerate(model.posts):\n",
        "    print(f\"Post {i}: Poster {post.poster_id}, Quality {post.quality:.2f}, Step {post.step}, Reactions {post.reactions}\")"
      ],
      "metadata": {
        "colab": {
          "base_uri": "https://localhost:8080/"
        },
        "id": "TH9ln87j0O6r",
        "outputId": "9f274bef-c8cf-4a1e-ab5b-f76a985b0ab4"
      },
      "execution_count": 37,
      "outputs": [
        {
          "output_type": "stream",
          "name": "stdout",
          "text": [
            "Total posts: 96\n",
            "Post 0: Poster 3, Quality 0.29, Step 0, Reactions 13\n",
            "Post 1: Poster 7, Quality 0.20, Step 0, Reactions 12\n",
            "Post 2: Poster 9, Quality 0.20, Step 0, Reactions 10\n",
            "Post 3: Poster 0, Quality 0.32, Step 1, Reactions 24\n",
            "Post 4: Poster 6, Quality 0.95, Step 1, Reactions 57\n",
            "Post 5: Poster 8, Quality 0.54, Step 1, Reactions 23\n",
            "Post 6: Poster 3, Quality 0.78, Step 2, Reactions 42\n",
            "Post 7: Poster 8, Quality 0.02, Step 2, Reactions 2\n",
            "Post 8: Poster 8, Quality 0.38, Step 3, Reactions 17\n",
            "Post 9: Poster 0, Quality 0.40, Step 4, Reactions 24\n",
            "Post 10: Poster 3, Quality 0.48, Step 4, Reactions 30\n",
            "Post 11: Poster 6, Quality 0.78, Step 4, Reactions 46\n",
            "Post 12: Poster 7, Quality 0.92, Step 4, Reactions 52\n",
            "Post 13: Poster 0, Quality 0.60, Step 5, Reactions 33\n",
            "Post 14: Poster 1, Quality 0.66, Step 5, Reactions 32\n",
            "Post 15: Poster 3, Quality 0.68, Step 5, Reactions 33\n",
            "Post 16: Poster 6, Quality 0.57, Step 5, Reactions 35\n",
            "Post 17: Poster 7, Quality 0.28, Step 5, Reactions 17\n",
            "Post 18: Poster 8, Quality 0.92, Step 5, Reactions 38\n",
            "Post 19: Poster 7, Quality 0.52, Step 6, Reactions 28\n",
            "Post 20: Poster 0, Quality 0.81, Step 7, Reactions 39\n",
            "Post 21: Poster 5, Quality 0.08, Step 7, Reactions 4\n",
            "Post 22: Poster 6, Quality 0.59, Step 7, Reactions 23\n",
            "Post 23: Poster 7, Quality 0.75, Step 7, Reactions 42\n",
            "Post 24: Poster 3, Quality 0.43, Step 8, Reactions 24\n",
            "Post 25: Poster 5, Quality 0.20, Step 8, Reactions 15\n",
            "Post 26: Poster 9, Quality 0.63, Step 8, Reactions 33\n",
            "Post 27: Poster 1, Quality 0.11, Step 9, Reactions 6\n",
            "Post 28: Poster 2, Quality 0.81, Step 9, Reactions 52\n",
            "Post 29: Poster 6, Quality 0.15, Step 9, Reactions 10\n",
            "Post 30: Poster 0, Quality 0.03, Step 10, Reactions 0\n",
            "Post 31: Poster 1, Quality 0.32, Step 10, Reactions 18\n",
            "Post 32: Poster 2, Quality 0.42, Step 10, Reactions 27\n",
            "Post 33: Poster 3, Quality 0.34, Step 10, Reactions 20\n",
            "Post 34: Poster 5, Quality 0.74, Step 10, Reactions 39\n",
            "Post 35: Poster 6, Quality 0.08, Step 10, Reactions 3\n",
            "Post 36: Poster 3, Quality 0.05, Step 11, Reactions 2\n",
            "Post 37: Poster 4, Quality 0.52, Step 11, Reactions 27\n",
            "Post 38: Poster 3, Quality 0.78, Step 12, Reactions 44\n",
            "Post 39: Poster 8, Quality 0.19, Step 12, Reactions 9\n",
            "Post 40: Poster 4, Quality 0.95, Step 13, Reactions 51\n",
            "Post 41: Poster 0, Quality 0.89, Step 14, Reactions 52\n",
            "Post 42: Poster 1, Quality 0.49, Step 14, Reactions 26\n",
            "Post 43: Poster 3, Quality 0.19, Step 14, Reactions 9\n",
            "Post 44: Poster 4, Quality 0.32, Step 14, Reactions 19\n",
            "Post 45: Poster 5, Quality 0.32, Step 14, Reactions 12\n",
            "Post 46: Poster 1, Quality 0.99, Step 15, Reactions 57\n",
            "Post 47: Poster 2, Quality 0.25, Step 15, Reactions 19\n",
            "Post 48: Poster 5, Quality 0.72, Step 15, Reactions 28\n",
            "Post 49: Poster 0, Quality 0.51, Step 16, Reactions 30\n",
            "Post 50: Poster 5, Quality 0.97, Step 16, Reactions 47\n",
            "Post 51: Poster 1, Quality 0.20, Step 17, Reactions 10\n",
            "Post 52: Poster 3, Quality 0.91, Step 17, Reactions 59\n",
            "Post 53: Poster 5, Quality 0.70, Step 17, Reactions 37\n",
            "Post 54: Poster 6, Quality 0.58, Step 17, Reactions 22\n",
            "Post 55: Poster 7, Quality 0.18, Step 17, Reactions 11\n",
            "Post 56: Poster 3, Quality 0.32, Step 18, Reactions 14\n",
            "Post 57: Poster 5, Quality 0.80, Step 18, Reactions 48\n",
            "Post 58: Poster 7, Quality 0.43, Step 18, Reactions 23\n",
            "Post 59: Poster 9, Quality 0.78, Step 18, Reactions 35\n",
            "Post 60: Poster 0, Quality 0.49, Step 19, Reactions 25\n",
            "Post 61: Poster 4, Quality 0.01, Step 19, Reactions 0\n",
            "Post 62: Poster 6, Quality 0.43, Step 19, Reactions 37\n",
            "Post 63: Poster 9, Quality 0.89, Step 19, Reactions 52\n",
            "Post 64: Poster 2, Quality 0.10, Step 20, Reactions 7\n",
            "Post 65: Poster 6, Quality 0.70, Step 20, Reactions 29\n",
            "Post 66: Poster 9, Quality 0.29, Step 20, Reactions 11\n",
            "Post 67: Poster 0, Quality 0.81, Step 21, Reactions 35\n",
            "Post 68: Poster 4, Quality 0.04, Step 21, Reactions 1\n",
            "Post 69: Poster 6, Quality 0.04, Step 21, Reactions 2\n",
            "Post 70: Poster 3, Quality 0.13, Step 22, Reactions 5\n",
            "Post 71: Poster 8, Quality 0.92, Step 22, Reactions 29\n",
            "Post 72: Poster 9, Quality 0.52, Step 22, Reactions 21\n",
            "Post 73: Poster 6, Quality 0.54, Step 23, Reactions 24\n",
            "Post 74: Poster 8, Quality 0.95, Step 23, Reactions 29\n",
            "Post 75: Poster 9, Quality 0.87, Step 23, Reactions 23\n",
            "Post 76: Poster 1, Quality 0.32, Step 24, Reactions 3\n",
            "Post 77: Poster 5, Quality 0.22, Step 24, Reactions 9\n",
            "Post 78: Poster 6, Quality 0.70, Step 24, Reactions 19\n",
            "Post 79: Poster 8, Quality 0.09, Step 25, Reactions 1\n",
            "Post 80: Poster 9, Quality 0.57, Step 25, Reactions 14\n",
            "Post 81: Poster 6, Quality 0.12, Step 26, Reactions 2\n",
            "Post 82: Poster 8, Quality 0.68, Step 26, Reactions 12\n",
            "Post 83: Poster 0, Quality 0.23, Step 27, Reactions 3\n",
            "Post 84: Poster 3, Quality 0.44, Step 27, Reactions 6\n",
            "Post 85: Poster 5, Quality 0.58, Step 27, Reactions 8\n",
            "Post 86: Poster 8, Quality 0.66, Step 27, Reactions 10\n",
            "Post 87: Poster 9, Quality 0.22, Step 27, Reactions 4\n",
            "Post 88: Poster 1, Quality 0.77, Step 28, Reactions 7\n",
            "Post 89: Poster 2, Quality 0.39, Step 28, Reactions 3\n",
            "Post 90: Poster 4, Quality 0.78, Step 28, Reactions 3\n",
            "Post 91: Poster 5, Quality 0.35, Step 28, Reactions 2\n",
            "Post 92: Poster 3, Quality 0.42, Step 29, Reactions 1\n",
            "Post 93: Poster 6, Quality 0.50, Step 29, Reactions 1\n",
            "Post 94: Poster 8, Quality 0.17, Step 29, Reactions 1\n",
            "Post 95: Poster 9, Quality 0.57, Step 29, Reactions 1\n"
          ]
        }
      ]
    },
    {
      "cell_type": "code",
      "source": [],
      "metadata": {
        "id": "gZPfKh6bxwQs"
      },
      "execution_count": null,
      "outputs": []
    }
  ]
}